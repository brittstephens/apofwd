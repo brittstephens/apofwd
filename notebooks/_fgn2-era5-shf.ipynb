{
 "cells": [
  {
   "cell_type": "markdown",
   "id": "edae5028-05ef-4367-b4a3-e9c0597f106f",
   "metadata": {},
   "source": [
    "# Compute N<sub>2</sub> fluxes from ERA5 heat fluxes"
   ]
  },
  {
   "cell_type": "code",
   "execution_count": 3,
   "id": "1e4f3444-811d-44ff-80a1-ad9a534f1efb",
   "metadata": {},
   "outputs": [
    {
     "name": "stdout",
     "output_type": "stream",
     "text": [
      "The autoreload extension is already loaded. To reload it, use:\n",
      "  %reload_ext autoreload\n"
     ]
    }
   ],
   "source": [
    "%load_ext autoreload\n",
    "%autoreload 2"
   ]
  },
  {
   "cell_type": "code",
   "execution_count": 4,
   "id": "c9f9206c-00e7-4674-b501-4823ad4004f2",
   "metadata": {},
   "outputs": [
    {
     "ename": "ModuleNotFoundError",
     "evalue": "No module named 'cdsapi'",
     "output_type": "error",
     "traceback": [
      "\u001b[0;31m---------------------------------------------------------------------------\u001b[0m",
      "\u001b[0;31mModuleNotFoundError\u001b[0m                       Traceback (most recent call last)",
      "\u001b[0;32m/glade/derecho/scratch/stephens/tmp/ipykernel_35704/2783331439.py\u001b[0m in \u001b[0;36m<module>\u001b[0;34m\u001b[0m\n\u001b[1;32m      8\u001b[0m \u001b[0;34m\u001b[0m\u001b[0m\n\u001b[1;32m      9\u001b[0m \u001b[0;32mimport\u001b[0m \u001b[0mintake\u001b[0m\u001b[0;34m\u001b[0m\u001b[0;34m\u001b[0m\u001b[0m\n\u001b[0;32m---> 10\u001b[0;31m \u001b[0;32mimport\u001b[0m \u001b[0mcdsapi\u001b[0m\u001b[0;34m\u001b[0m\u001b[0;34m\u001b[0m\u001b[0m\n\u001b[0m\u001b[1;32m     11\u001b[0m \u001b[0;34m\u001b[0m\u001b[0m\n\u001b[1;32m     12\u001b[0m \u001b[0;32mimport\u001b[0m \u001b[0mregrid_tools\u001b[0m\u001b[0;34m\u001b[0m\u001b[0;34m\u001b[0m\u001b[0m\n",
      "\u001b[0;31mModuleNotFoundError\u001b[0m: No module named 'cdsapi'"
     ]
    }
   ],
   "source": [
    "import os\n",
    "import yaml\n",
    "\n",
    "import numpy as np\n",
    "import xarray as xr\n",
    "\n",
    "import matplotlib.pyplot as plt\n",
    "\n",
    "import intake\n",
    "import cdsapi\n",
    "\n",
    "import regrid_tools\n",
    "import config\n",
    "import solubility\n",
    "import util"
   ]
  },
  {
   "cell_type": "code",
   "execution_count": null,
   "id": "9de32493-2ccd-41b6-bffd-6fb236251897",
   "metadata": {},
   "outputs": [],
   "source": [
    "year0, yearf = 1984, 2020\n",
    "scaleby = 1 / 1.3\n",
    "shift_time = 0."
   ]
  },
  {
   "cell_type": "markdown",
   "id": "22624ec7-1019-41e5-9d5b-8608d0c7bd32",
   "metadata": {
    "jp-MarkdownHeadingCollapsed": true
   },
   "source": [
    "## Get the heat flux\n",
    "\n",
    "Get data from ECMWF servers using `cdsapi`. Generate a command here: https://cds.climate.copernicus.eu/datasets/reanalysis-era5-single-levels-monthly-means?tab=download\n",
    "\n",
    "Interpolate onto a more sensible grid. The ERA5 data is already interpolated from the native Gaussian grid using bilinear interpolation. They serve the data with values at -90°N and 90°N: the data in these top and bottom rows is all identical.\n",
    "\n",
    "Use `sst` field to generate land mask. The following test passes:\n",
    "```python\n",
    "for i in range(len(ds.time)):\n",
    "    assert (ds.tos.isel(time=0).isnull() == ds.tos.isel(time=i).isnull()).all()\n",
    "```\n",
    "\n",
    "Variable definitions (see [here](https://cds.climate.copernicus.eu/datasets/reanalysis-era5-single-levels-monthly-means?tab=overview)):\n",
    "```\n",
    "mslhf: Mean surface latent heat flux\n",
    "msnlwrf: Mean surface net long-wave radiation flux\n",
    "msnswrf: Mean surface net short-wave radiation flux\n",
    "msshf: Mean surface sensible heat flux\n",
    "sst: Sea surface temperature\n",
    "```\n",
    "\n",
    "| Variable         | Short Name | Units     | Description |\n",
    "| ---------------- | ---------- | --------- | ----------- |\n",
    "|Mean surface latent heat flux | `mslhf` | W m<sup>-2</sup> | This parameter is the transfer of latent heat (resulting from water phase changes, such as evaporation or condensation) between the Earth's surface and the atmosphere through the effects of turbulent air motion. Evaporation from the Earth's surface represents a transfer of energy from the surface to the atmosphere. This parameter is a mean over a particular time period (the processing period) which depends on the data extracted. For the monthly averaged reanalysis and the monthly averaged ensemble members, the processing period is the complete, whole month. For the monthly averaged reanalysis by hour of day, the processing period is 1 hour for every day of the month and for the monthly averaged ensemble members by hour of day, the processing period is 3 hours for every day of the month. The ECMWF convention for vertical fluxes is positive downwards.|\n",
    "| Mean surface net long-wave radiation flux| `msnlwrf` | W m<sup>-2</sup> |Thermal radiation (also known as longwave or terrestrial radiation) refers to radiation emitted by the atmosphere, clouds and the surface of the Earth. This parameter is the difference between downward and upward thermal radiation at the surface of the Earth. It is the amount of radiation passing through a horizontal plane. The atmosphere and clouds emit thermal radiation in all directions, some of which reaches the surface as downward thermal radiation. The upward thermal radiation at the surface consists of thermal radiation emitted by the surface plus the fraction of downwards thermal radiation reflected upward by the surface. This parameter is a mean over a particular time period (the processing period) which depends on the data extracted. For the monthly averaged reanalysis and the monthly averaged ensemble members, the processing period is the complete, whole month. For the monthly averaged reanalysis by hour of day, the processing period is 1 hour for every day of the month and for the monthly averaged ensemble members by hour of day, the processing period is 3 hours for every day of the month. The ECMWF convention for vertical fluxes is positive downwards.|\n",
    "| Mean surface net short-wave radiation flux | `msnswrf` | W m<sup>-2</sup> | This parameter is the amount of solar radiation (also known as shortwave radiation) that reaches a horizontal plane at the surface of the Earth (both direct and diffuse) minus the amount reflected by the Earth's surface (which is governed by the albedo). Radiation from the Sun (solar, or shortwave, radiation) is partly reflected back to space by clouds and particles in the atmosphere (aerosols) and some of it is absorbed. The remainder is incident on the Earth's surface, where some of it is reflected. This parameter is a mean over a particular time period (the processing period) which depends on the data extracted. For the monthly averaged reanalysis and the monthly averaged ensemble members, the processing period is the complete, whole month. For the monthly averaged reanalysis by hour of day, the processing period is 1 hour for every day of the month and for the monthly averaged ensemble members by hour of day, the processing period is 3 hours for every day of the month. The ECMWF convention for vertical fluxes is positive downwards.|\n",
    "| Mean surface sensible heat flux | `msshf` | W m<sup>-2</sup>  | \tThis parameter is the transfer of heat between the Earth's surface and the atmosphere through the effects of turbulent air motion (but excluding any heat transfer resulting from condensation or evaporation). The magnitude of the sensible heat flux is governed by the difference in temperature between the surface and the overlying atmosphere, wind speed and the surface roughness. For example, cold air overlying a warm surface would produce a sensible heat flux from the land (or ocean) into the atmosphere. This parameter is a mean over a particular time period (the processing period) which depends on the data extracted. For the monthly averaged reanalysis and the monthly averaged ensemble members, the processing period is the complete, whole month. For the monthly averaged reanalysis by hour of day, the processing period is 1 hour for every day of the month and for the monthly averaged ensemble members by hour of day, the processing period is 3 hours for every day of the month. The ECMWF convention for vertical fluxes is positive downwards.|"
   ]
  },
  {
   "cell_type": "code",
   "execution_count": null,
   "id": "d093d606-747e-48b4-a582-2b04eaf96bc3",
   "metadata": {},
   "outputs": [],
   "source": [
    "%%time\n",
    "import urllib3\n",
    "urllib3.disable_warnings()\n",
    "\n",
    "file_out = f\"{config.intake_cachedir}/era5.mean_surface_heat_fluxes.{year0:04d}-{yearf:04d}.nc\"\n",
    "\n",
    "if not os.path.exists(file_out):\n",
    "    \n",
    "    try:\n",
    "        with open(\"ecmwf_credentials.yaml\") as fid:\n",
    "            credentials = yaml.safe_load(fid)\n",
    "    except:\n",
    "        raise    \n",
    "    \n",
    "    c = cdsapi.Client(**credentials)\n",
    "    c.retrieve(\n",
    "        'reanalysis-era5-single-levels-monthly-means',\n",
    "        {\n",
    "            'format': 'netcdf',\n",
    "            'variable': [\n",
    "                'mean_surface_latent_heat_flux', \n",
    "                'mean_surface_net_long_wave_radiation_flux', \n",
    "                'mean_surface_net_short_wave_radiation_flux',\n",
    "                'mean_surface_sensible_heat_flux',\n",
    "                'sea_surface_temperature',\n",
    "            ],\n",
    "            'year': [f\"{y:04d}\" for y in range(year0, yearf+1)],\n",
    "            'month': [f\"{m:02d}\" for m in range(1, 13)],\n",
    "            'time': '00:00',\n",
    "            'product_type': 'monthly_averaged_reanalysis',\n",
    "        },\n",
    "        file_out)\n",
    "\n",
    "ds = xr.open_dataset(file_out)\n",
    "grid = util.generate_latlon_grid(1440, 720)\n",
    "\n",
    "# turn the world right-side up\n",
    "ds = ds.reindex(latitude=ds.latitude[::-1])\n",
    "\n",
    "# mask out land\n",
    "ds = ds.where(ds.sst)\n",
    "\n",
    "# compute total net heat flux\n",
    "ds[\"hfds\"] = ds.mslhf + ds.msnlwrf + ds.msnswrf + ds.msshf\n",
    "ds.hfds.attrs = ds.mslhf.attrs\n",
    "ds.hfds.attrs[\"long_name\"] = \"Net surface heat flux\"\n",
    "\n",
    "ds = ds.rename({\"sst\": \"tos\"})\n",
    "ds = ds[[\"hfds\", \"tos\"]].interp(longitude=grid.lon, latitude=grid.lat)\n",
    "ds[\"area\"] = grid.area.where(ds.tos.isel(time=0).notnull()).fillna(0.)\n",
    "\n",
    "with xr.set_options(keep_attrs=True):\n",
    "    ds['tos'] = ds.tos - solubility.T0_Kelvin\n",
    "    ds.tos.attrs['units'] = 'degC'\n",
    "\n",
    "ds"
   ]
  },
  {
   "cell_type": "markdown",
   "id": "d3bc89e5-d7ee-4248-96cf-d3e55f3a7c76",
   "metadata": {},
   "source": [
    "### Examine this dataset"
   ]
  },
  {
   "cell_type": "code",
   "execution_count": null,
   "id": "063f6f32-1827-4156-b881-a959d52ce1b7",
   "metadata": {},
   "outputs": [],
   "source": [
    "ds.area.plot()"
   ]
  },
  {
   "cell_type": "markdown",
   "id": "997a3686-d68c-4dee-99ff-26d3f8f2a696",
   "metadata": {},
   "source": [
    "## Get WOA salinity data"
   ]
  },
  {
   "cell_type": "code",
   "execution_count": null,
   "id": "086ad330-30e2-4948-acc8-29f87a4df233",
   "metadata": {},
   "outputs": [],
   "source": [
    "ds.tos.isel(time=0).plot()"
   ]
  },
  {
   "cell_type": "code",
   "execution_count": null,
   "id": "4c81bfa4-3615-4646-a05c-558d410d11ee",
   "metadata": {},
   "outputs": [],
   "source": [
    "ds.hfds.isel(time=0).plot()"
   ]
  },
  {
   "cell_type": "code",
   "execution_count": null,
   "id": "f5965190-f516-4f10-9ffb-99f40b6c9633",
   "metadata": {},
   "outputs": [],
   "source": [
    "ds.hfds.mean('time').plot()"
   ]
  },
  {
   "cell_type": "code",
   "execution_count": null,
   "id": "2a9e6424-8a16-4817-b73f-f2b9f94e07f0",
   "metadata": {},
   "outputs": [],
   "source": [
    "cat = intake.open_catalog(\"catalogs/woa2018-catalog.yml\")\n",
    "print(cat.yaml())"
   ]
  },
  {
   "cell_type": "code",
   "execution_count": null,
   "id": "6be9a424-6c4c-4554-9f5f-b2a247b81504",
   "metadata": {},
   "outputs": [],
   "source": [
    "%%time\n",
    "def retrieve_dataset(value):\n",
    "    try:\n",
    "        ds = cat.salinity(time_code=value).to_dask().isel(depth=0, drop=True)\n",
    "    except Exception:\n",
    "        ds = None\n",
    "        raise\n",
    "    return ds\n",
    "\n",
    "\n",
    "ds_list = list(map(retrieve_dataset, np.arange(1, 13)))\n",
    "ds_woa_mon = xr.concat(ds_list, dim='time', compat='override', coords='minimal').squeeze().compute()\n",
    "ds_woa_mon = ds_woa_mon[[\"s_an\"]]\n",
    "ds_woa_mon"
   ]
  },
  {
   "cell_type": "code",
   "execution_count": null,
   "id": "1981f514-d3b6-44bd-9f84-154f7535f1e6",
   "metadata": {},
   "outputs": [],
   "source": [
    "ds_woa_mon.s_an.isel(time=0).plot()"
   ]
  },
  {
   "cell_type": "code",
   "execution_count": null,
   "id": "438aa7da-6a62-4f2b-835f-adb13d312df4",
   "metadata": {},
   "outputs": [],
   "source": [
    "woa_grid = regrid_tools.grid(\"latlon\", nx=360, ny=180, lon0=-180.)\n",
    "woa_grid"
   ]
  },
  {
   "cell_type": "code",
   "execution_count": null,
   "id": "48211249-4b1c-4f5c-94cf-fe8d7f7a3b74",
   "metadata": {},
   "outputs": [],
   "source": [
    "era5_grid = regrid_tools.grid(\"latlon\", nx=1440, ny=720, lon0=0.)\n",
    "era5_grid"
   ]
  },
  {
   "cell_type": "code",
   "execution_count": null,
   "id": "8311c520-4326-4f08-9fe4-d151b1daaea1",
   "metadata": {},
   "outputs": [],
   "source": [
    "regrid_woa_to_era5 = regrid_tools.regridder(woa_grid, era5_grid, method=\"conserve\", clobber=False)\n",
    "regrid_woa_to_era5"
   ]
  },
  {
   "cell_type": "code",
   "execution_count": null,
   "id": "8aab1b21-0e2c-4cc4-80b8-930ad69fb8f0",
   "metadata": {},
   "outputs": [],
   "source": [
    "ds_woa_mon_era5 = regrid_woa_to_era5(ds_woa_mon)\n",
    "ds_woa_mon_era5"
   ]
  },
  {
   "cell_type": "code",
   "execution_count": null,
   "id": "e92d6427-7f2c-4587-a370-c05e08620280",
   "metadata": {},
   "outputs": [],
   "source": [
    "salinity_data = np.concatenate([ds_woa_mon_era5.s_an.data for i in range(year0, yearf+1)], axis=0)\n",
    "ds[\"sos\"] = xr.DataArray(salinity_data, dims=ds.tos.dims, coords=ds.tos.coords)\n",
    "ds"
   ]
  },
  {
   "cell_type": "code",
   "execution_count": null,
   "id": "e93999e4-50b6-49d1-9936-90da6bdf86f5",
   "metadata": {},
   "outputs": [],
   "source": [
    "ds = util.compute_fgn2(ds, scaleby).rename({'fgn2': 'SFN2_OCN'})\n",
    "ds['SFN2_OCN'].attrs['units'] = 'mol/m^2/s'\n",
    "ds"
   ]
  },
  {
   "cell_type": "code",
   "execution_count": null,
   "id": "0ec48e6c-cf71-4222-a912-164a74ee4c6c",
   "metadata": {},
   "outputs": [],
   "source": [
    "region = xr.DataArray(['NET', 'SET'], dims=('region'), name='region')\n",
    "masked_area = xr.concat([\n",
    "    ds.area.where(ds.lat >= 20),\n",
    "    ds.area.where(ds.lat <= -20),    \n",
    "],\n",
    "    dim=region,\n",
    ")\n",
    "masked_area.isel(region=0).plot()"
   ]
  },
  {
   "cell_type": "code",
   "execution_count": null,
   "id": "01a5f7a6-a316-4449-87df-0f5c2659d6cb",
   "metadata": {},
   "outputs": [],
   "source": [
    "mols_to_Tmolmon = 86400. * 365. / 12 * 1e-12\n",
    "\n",
    "vars_mean = ['tos', 'hfds']\n",
    "vars_aint = ['SFN2_OCN']\n",
    "with xr.set_options(keep_attrs=True):\n",
    "    ds_mon_clim = ds.groupby('time.month').mean('time')    \n",
    "    ds_mon_clim_region = (ds_mon_clim[vars_mean] * masked_area).sum(['lat', 'lon']) / masked_area.sum(['lat', 'lon'])\n",
    "    ds_mon_clim_region = xr.merge([\n",
    "        ds_mon_clim_region,\n",
    "        (ds_mon_clim[vars_aint] * masked_area).sum(['lat', 'lon']),\n",
    "    ])\n",
    "    ds_mon_clim_region['SFN2_OCN'] = ds_mon_clim_region.SFN2_OCN * mols_to_Tmolmon\n",
    "    ds_mon_clim_region.SFN2_OCN.attrs['units'] = 'Tmol mon${-1}$'\n",
    "ds_mon_clim_region"
   ]
  },
  {
   "cell_type": "code",
   "execution_count": null,
   "id": "9d3188f4-b33c-4134-a5fe-7d61c8bdd221",
   "metadata": {},
   "outputs": [],
   "source": [
    "for v in ['hfds', 'tos', 'SFN2_OCN']:\n",
    "    plt.figure()\n",
    "    for i in range(ds_mon_clim_region.sizes['region']):\n",
    "        ds_mon_clim_region[v].isel(region=i).plot(label=ds_mon_clim_region.region.isel(region=i).values)\n",
    "    plt.legend();\n",
    "    plt.title(v)"
   ]
  },
  {
   "cell_type": "code",
   "execution_count": null,
   "id": "f099e52b-ea8b-4471-b6af-88f2cfa4a39a",
   "metadata": {},
   "outputs": [],
   "source": [
    "(ds_mon_clim * masked_area).sum(['lat', 'lon']) / masked_area.sum(['lat', 'lon'])"
   ]
  },
  {
   "cell_type": "code",
   "execution_count": null,
   "id": "e2a4edf1-1e70-46dc-8434-ff8cfbbd7430",
   "metadata": {},
   "outputs": [],
   "source": [
    "dst_grid = regrid_tools.grid(\"latlon\", **config.config_dict[\"flux-dst-grid-kwargs\"])\n",
    "dst_grid"
   ]
  },
  {
   "cell_type": "code",
   "execution_count": null,
   "id": "6fabed51-c8cf-43e6-8285-96c09cdb48a9",
   "metadata": {},
   "outputs": [],
   "source": [
    "regrid_obj = regrid_tools.regridder(era5_grid, dst_grid, method=\"conserve\", clobber=False)\n",
    "regrid_obj"
   ]
  },
  {
   "cell_type": "code",
   "execution_count": null,
   "id": "ba586897-140d-403c-93bc-733c820bf57b",
   "metadata": {},
   "outputs": [],
   "source": [
    "dso = util.generate_latlon_grid(**config.config_dict[\"flux-dst-grid-kwargs\"])[[\"area\"]]\n",
    "dso['SFN2_OCN'] = regrid_obj(ds['SFN2_OCN'])\n",
    "dso"
   ]
  },
  {
   "cell_type": "code",
   "execution_count": null,
   "id": "36234bfc-2bc9-4983-8d5e-fa62ce85448f",
   "metadata": {},
   "outputs": [],
   "source": [
    "ds.SFN2_OCN.isel(time=0).plot()"
   ]
  },
  {
   "cell_type": "code",
   "execution_count": null,
   "id": "b8334bb6-7257-4d06-bb20-6908e695b2d1",
   "metadata": {},
   "outputs": [],
   "source": [
    "dso.SFN2_OCN.isel(time=0).plot()"
   ]
  },
  {
   "cell_type": "code",
   "execution_count": null,
   "id": "e8c21288-467a-4c58-90b5-8d1c64882a20",
   "metadata": {},
   "outputs": [],
   "source": [
    "time, time_bnd = util.gen_midmonth_cftime_coord((year0, yearf), shift_time=shift_time)\n",
    "dso['time'] = time\n",
    "dso[time.bounds] = time_bnd\n",
    "dso"
   ]
  },
  {
   "cell_type": "code",
   "execution_count": null,
   "id": "182a501e-6986-4a01-b8ba-7a0deafec52c",
   "metadata": {},
   "outputs": [],
   "source": [
    "file_out = f\"{config.flux_product_dir}/SFN2_OCN.era5-shf.shft_{shift_time:0.0f}d.scale_{scaleby:0.2f}.{year0}-{yearf}.nc\"\n",
    "\n",
    "dso.attrs = {}\n",
    "dso.attrs['note'] = 'Heat flux from ERA5 Reanalysis: https://cds.climate.copernicus.eu/cdsapp#!/dataset/reanalysis-era5-single-levels-monthly-means'\n",
    "util.to_netcdf_clean(dso, file_out)"
   ]
  },
  {
   "cell_type": "code",
   "execution_count": null,
   "id": "afef5ea0-468e-4ddc-8379-7e9b8c932a20",
   "metadata": {},
   "outputs": [],
   "source": [
    "curator = util.curate_flux_products()\n",
    "curator.add_source(\n",
    "        key=f\"SFN2_OCN.era5_shf\",\n",
    "        urlpath=file_out,\n",
    "        description='N2 flux computed from ERA5 heat flux',\n",
    "    )"
   ]
  },
  {
   "cell_type": "code",
   "execution_count": null,
   "id": "7031c307-ba18-4baa-8d62-a49c0ae6a3fa",
   "metadata": {},
   "outputs": [],
   "source": []
  }
 ],
 "metadata": {
  "kernelspec": {
   "display_name": "Python [conda env:miniconda3-sno]",
   "language": "python",
   "name": "conda-env-miniconda3-sno-py"
  },
  "language_info": {
   "codemirror_mode": {
    "name": "ipython",
    "version": 3
   },
   "file_extension": ".py",
   "mimetype": "text/x-python",
   "name": "python",
   "nbconvert_exporter": "python",
   "pygments_lexer": "ipython3",
   "version": "3.7.10"
  }
 },
 "nbformat": 4,
 "nbformat_minor": 5
}
